{
 "cells": [
  {
   "cell_type": "code",
   "execution_count": 1,
   "id": "c1f85201",
   "metadata": {},
   "outputs": [],
   "source": [
    "from happytransformer import HappyGeneration"
   ]
  },
  {
   "cell_type": "markdown",
   "id": "740142d4",
   "metadata": {},
   "source": [
    "#### 1. model 생성"
   ]
  },
  {
   "cell_type": "code",
   "execution_count": 2,
   "id": "02405ed2",
   "metadata": {},
   "outputs": [
    {
     "name": "stderr",
     "output_type": "stream",
     "text": [
      "01/29/2022 09:56:26 - INFO - happytransformer.happy_transformer -   Using model: cpu\n"
     ]
    }
   ],
   "source": [
    "happy_gen = HappyGeneration(\"GPT-NEO\", \"EleutherAI/gpt-neo-1.3B\")"
   ]
  },
  {
   "cell_type": "markdown",
   "id": "47c3e2b5",
   "metadata": {},
   "source": [
    "#### 2. 텍스트 생성방법"
   ]
  },
  {
   "cell_type": "code",
   "execution_count": 3,
   "id": "f85fd254",
   "metadata": {},
   "outputs": [
    {
     "name": "stderr",
     "output_type": "stream",
     "text": [
      "Setting `pad_token_id` to `eos_token_id`:50256 for open-end generation.\n"
     ]
    }
   ],
   "source": [
    "result = happy_gen.generate_text(\"We must invest in \")"
   ]
  },
  {
   "cell_type": "code",
   "execution_count": 4,
   "id": "4881b293",
   "metadata": {},
   "outputs": [
    {
     "name": "stdout",
     "output_type": "stream",
     "text": [
      "GenerationResult(text='\\nthe future of our energy \\ninfrastructure.\\nAnd we must do it now.\\nAnd we must do it now.\\nAnd we must do it now.\\nAnd we must do it now.\\nAnd we must do it now')\n"
     ]
    }
   ],
   "source": [
    "print(result)"
   ]
  },
  {
   "cell_type": "code",
   "execution_count": 5,
   "id": "dab05328",
   "metadata": {},
   "outputs": [
    {
     "name": "stdout",
     "output_type": "stream",
     "text": [
      "\n",
      "the future of our energy \n",
      "infrastructure.\n",
      "And we must do it now.\n",
      "And we must do it now.\n",
      "And we must do it now.\n",
      "And we must do it now.\n",
      "And we must do it now\n"
     ]
    }
   ],
   "source": [
    "print(result.text)"
   ]
  },
  {
   "cell_type": "markdown",
   "id": "be5c5b9d",
   "metadata": {},
   "source": [
    "#### 3. Greedy 알고리즘 (default)\n",
    "* 가장 확률이 높은 단어를 선정하여 생성하지만, 문제는 같은 단어가 반복해서 나오기 쉬움\n",
    "* 해결방법 : n-gram(토큰수를 2개이상 고려할때 사용) 이용. n-gram 사이즈를 이용해서 같은 단어를 반복하지 않게 설정\n",
    "* GENSettings 메소드를 임포트하고 반복하지 않을 n-gram size 설정"
   ]
  },
  {
   "cell_type": "code",
   "execution_count": 6,
   "id": "ca9b5946",
   "metadata": {},
   "outputs": [],
   "source": [
    "from happytransformer import GENSettings"
   ]
  },
  {
   "cell_type": "code",
   "execution_count": 26,
   "id": "79fd4ed5",
   "metadata": {},
   "outputs": [],
   "source": [
    "# default = no_repeat_ngrams_size = 2(0, 2)\n",
    "# max_length 토큰 수 지정 (10 to 50)\n",
    "greedy_settings = GENSettings(no_repeat_ngram_size=2, max_length=50)"
   ]
  },
  {
   "cell_type": "code",
   "execution_count": 27,
   "id": "0f5bc0cd",
   "metadata": {},
   "outputs": [
    {
     "name": "stderr",
     "output_type": "stream",
     "text": [
      "Setting `pad_token_id` to `eos_token_id`:50256 for open-end generation.\n"
     ]
    }
   ],
   "source": [
    "greedy_result = happy_gen.generate_text('We must invest in ', args=greedy_settings)"
   ]
  },
  {
   "cell_type": "code",
   "execution_count": 28,
   "id": "c4e45e68",
   "metadata": {},
   "outputs": [
    {
     "name": "stdout",
     "output_type": "stream",
     "text": [
      "GenerationResult(text='\\nthe future of our energy   and  our  economy.  We must  invest  in the  future  of  the energy industry.\\n\\nWe need to invest to  create jobs,  to create  new technologies, to')\n"
     ]
    }
   ],
   "source": [
    "print(greedy_result)"
   ]
  },
  {
   "cell_type": "code",
   "execution_count": 29,
   "id": "ea25121b",
   "metadata": {},
   "outputs": [
    {
     "name": "stdout",
     "output_type": "stream",
     "text": [
      "\n",
      "the future of our energy   and  our  economy.  We must  invest  in the  future  of  the energy industry.\n",
      "\n",
      "We need to invest to  create jobs,  to create  new technologies, to\n"
     ]
    }
   ],
   "source": [
    "print(greedy_result.text)"
   ]
  },
  {
   "cell_type": "code",
   "execution_count": 32,
   "id": "db0613d7",
   "metadata": {},
   "outputs": [
    {
     "data": {
      "text/plain": [
       "67"
      ]
     },
     "execution_count": 32,
     "metadata": {},
     "output_type": "execute_result"
    }
   ],
   "source": [
    "len('We need to invest to  create jobs,  to create  new technologies, to')"
   ]
  },
  {
   "cell_type": "markdown",
   "id": "ee88ede4",
   "metadata": {},
   "source": [
    "#### 4. Generic Sampling 알고리즘 : 텍스트 생성 알고리즘\n",
    "* 계속해서 문장의 다음단어를 생성해내는 것이 특징이고 확률로 결정\n",
    "* 문제는 단어가 많아지면 실제 와야 할 단어를 분별하지 못함\n",
    "* 해결방법 : temperature 컨셉 이용. (0~1)\n",
    "    * 0에 가까워지면 greedy 알고리즘에 가까워짐 (0 or 1)\n",
    "    * 1에 가까워지면 grid 알고리즘에 가까워짐   (주어진 단어 전체에 대한 확률)"
   ]
  },
  {
   "cell_type": "code",
   "execution_count": 46,
   "id": "f26f60b0",
   "metadata": {},
   "outputs": [],
   "source": [
    "### do_sample =True : 모든 토큰의 확률 고려\n",
    "### top_k = 0: 모든 토큰 고려\n",
    "\n",
    "generic_sampling_settings = GENSettings(do_sample=True, top_k=0, temperature=1, max_length=50)"
   ]
  },
  {
   "cell_type": "code",
   "execution_count": 47,
   "id": "7f9cd94d",
   "metadata": {},
   "outputs": [
    {
     "name": "stderr",
     "output_type": "stream",
     "text": [
      "Setting `pad_token_id` to `eos_token_id`:50256 for open-end generation.\n"
     ]
    }
   ],
   "source": [
    "generic_sampling_result = happy_gen.generate_text(\"We must invest in \", args=generic_sampling_settings)"
   ]
  },
  {
   "cell_type": "code",
   "execution_count": 48,
   "id": "7b15f2ac",
   "metadata": {},
   "outputs": [
    {
     "name": "stdout",
     "output_type": "stream",
     "text": [
      "\n",
      "new energy infrastructure\n",
      "\n",
      "back to work\n",
      "(27-Dec-2011)\n",
      "\n",
      "In today’s globalized world, the \n",
      "increasingly erratic nature of energy demand requires \n",
      "investment across the energy system if our planet\n"
     ]
    }
   ],
   "source": [
    "print(generic_sampling_result.text)"
   ]
  },
  {
   "cell_type": "markdown",
   "id": "52174c98",
   "metadata": {},
   "source": [
    "#### 5. Top-k sampling\n",
    "* 모든 토큰이 아닌 Top 토큰만 지정\n",
    "* 반복되는 토큰이 없도록 하려면 no_repeat_ngram_size 지정"
   ]
  },
  {
   "cell_type": "code",
   "execution_count": 54,
   "id": "0e951cd2",
   "metadata": {},
   "outputs": [],
   "source": [
    "top_k_sampling_settings = GENSettings(do_sample=True, top_k=50, temperature=0.5, max_length=50, no_repeat_ngram_size=2)"
   ]
  },
  {
   "cell_type": "code",
   "execution_count": 57,
   "id": "eef2aff4",
   "metadata": {},
   "outputs": [
    {
     "name": "stderr",
     "output_type": "stream",
     "text": [
      "Setting `pad_token_id` to `eos_token_id`:50256 for open-end generation.\n"
     ]
    }
   ],
   "source": [
    "top_k_sampling_result = happy_gen.generate_text(\"We must invest in \", args=top_k_sampling_settings)"
   ]
  },
  {
   "cell_type": "code",
   "execution_count": 58,
   "id": "798100e2",
   "metadata": {},
   "outputs": [
    {
     "name": "stdout",
     "output_type": "stream",
     "text": [
      "\n",
      "the next generation of   technologies.\n",
      "\n",
      "We need to invest  in the next  generation  of energy  and  communications  infrastructures.  We need  to  invest,  not  only in new  power\n"
     ]
    }
   ],
   "source": [
    "print(top_k_sampling_result.text)"
   ]
  },
  {
   "cell_type": "markdown",
   "id": "0cafebbb",
   "metadata": {},
   "source": [
    "#### 6. GPT-2 \n",
    "* openAI 개발. 공개하기를 꺼려 했음\n",
    "* gpt2-x1 : 1.5 billion parameters 사용\n",
    "* gpt2-large : 작은 버전"
   ]
  },
  {
   "cell_type": "code",
   "execution_count": 59,
   "id": "726f65e9",
   "metadata": {},
   "outputs": [
    {
     "name": "stderr",
     "output_type": "stream",
     "text": [
      "01/29/2022 16:09:45 - INFO - happytransformer.happy_transformer -   Using model: cpu\n"
     ]
    }
   ],
   "source": [
    "happy_gpt2 = HappyGeneration(\"GPT2\", 'gpt2-large')"
   ]
  },
  {
   "cell_type": "code",
   "execution_count": 62,
   "id": "29967e8e",
   "metadata": {},
   "outputs": [
    {
     "name": "stderr",
     "output_type": "stream",
     "text": [
      "Setting `pad_token_id` to `eos_token_id`:50256 for open-end generation.\n"
     ]
    }
   ],
   "source": [
    "result_gpt2 = happy_gpt2.generate_text('We must invest in ', args=top_k_sampling_settings)"
   ]
  },
  {
   "cell_type": "code",
   "execution_count": 63,
   "id": "82d9d934",
   "metadata": {},
   "outputs": [
    {
     "name": "stdout",
     "output_type": "stream",
     "text": [
      " the future of our children and the future generations.  \n",
      "I want to see a world where the children of the world are taught to love each other, to respect the earth, and to be good citizens. I want a place where everyone\n"
     ]
    }
   ],
   "source": [
    "print(result_gpt2.text)"
   ]
  },
  {
   "cell_type": "code",
   "execution_count": null,
   "id": "0291a8dc",
   "metadata": {},
   "outputs": [],
   "source": []
  }
 ],
 "metadata": {
  "kernelspec": {
   "display_name": "Python 3 (ipykernel)",
   "language": "python",
   "name": "python3"
  },
  "language_info": {
   "codemirror_mode": {
    "name": "ipython",
    "version": 3
   },
   "file_extension": ".py",
   "mimetype": "text/x-python",
   "name": "python",
   "nbconvert_exporter": "python",
   "pygments_lexer": "ipython3",
   "version": "3.8.8"
  }
 },
 "nbformat": 4,
 "nbformat_minor": 5
}
